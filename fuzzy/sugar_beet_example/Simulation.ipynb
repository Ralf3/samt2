{
 "cells": [
  {
   "cell_type": "markdown",
   "metadata": {
    "deletable": true,
    "editable": true
   },
   "source": [
    "# Simulation of the Sugar Beet model"
   ]
  },
  {
   "cell_type": "markdown",
   "metadata": {
    "deletable": true,
    "editable": true
   },
   "source": [
    "## Load the modules"
   ]
  },
  {
   "cell_type": "code",
   "execution_count": 1,
   "metadata": {
    "collapsed": false,
    "deletable": true,
    "editable": true
   },
   "outputs": [],
   "source": [
    "import sys\n",
    "sys.path.append('../src')\n",
    "import Pyfuzzy as Fuzz\n",
    "import numpy as np\n",
    "import pylab as plt\n",
    "import pandas as pd\n",
    "%matplotlib inline"
   ]
  },
  {
   "cell_type": "markdown",
   "metadata": {
    "deletable": true,
    "editable": true
   },
   "source": [
    "## Load the model"
   ]
  },
  {
   "cell_type": "code",
   "execution_count": 2,
   "metadata": {
    "collapsed": false,
    "deletable": true,
    "editable": true
   },
   "outputs": [],
   "source": [
    "f1=Fuzz.read_model('zr_simple_t.fis')"
   ]
  },
  {
   "cell_type": "markdown",
   "metadata": {
    "deletable": true,
    "editable": true
   },
   "source": [
    "## Simulation"
   ]
  },
  {
   "cell_type": "markdown",
   "metadata": {
    "deletable": true,
    "editable": true
   },
   "source": [
    "### Define the Simulation"
   ]
  },
  {
   "cell_type": "code",
   "execution_count": 3,
   "metadata": {
    "collapsed": false,
    "deletable": true,
    "editable": true
   },
   "outputs": [
    {
     "data": {
      "text/html": [
       "<div>\n",
       "<table border=\"1\" class=\"dataframe\">\n",
       "  <thead>\n",
       "    <tr style=\"text-align: right;\">\n",
       "      <th></th>\n",
       "      <th>NI</th>\n",
       "    </tr>\n",
       "  </thead>\n",
       "  <tbody>\n",
       "    <tr>\n",
       "      <th>count</th>\n",
       "      <td>4551.000000</td>\n",
       "    </tr>\n",
       "    <tr>\n",
       "      <th>mean</th>\n",
       "      <td>222.603296</td>\n",
       "    </tr>\n",
       "    <tr>\n",
       "      <th>std</th>\n",
       "      <td>77.191826</td>\n",
       "    </tr>\n",
       "    <tr>\n",
       "      <th>min</th>\n",
       "      <td>67.900000</td>\n",
       "    </tr>\n",
       "    <tr>\n",
       "      <th>25%</th>\n",
       "      <td>170.400000</td>\n",
       "    </tr>\n",
       "    <tr>\n",
       "      <th>50%</th>\n",
       "      <td>217.300000</td>\n",
       "    </tr>\n",
       "    <tr>\n",
       "      <th>75%</th>\n",
       "      <td>269.700000</td>\n",
       "    </tr>\n",
       "    <tr>\n",
       "      <th>max</th>\n",
       "      <td>482.900000</td>\n",
       "    </tr>\n",
       "  </tbody>\n",
       "</table>\n",
       "</div>"
      ],
      "text/plain": [
       "                NI\n",
       "count  4551.000000\n",
       "mean    222.603296\n",
       "std      77.191826\n",
       "min      67.900000\n",
       "25%     170.400000\n",
       "50%     217.300000\n",
       "75%     269.700000\n",
       "max     482.900000"
      ]
     },
     "execution_count": 3,
     "metadata": {},
     "output_type": "execute_result"
    }
   ],
   "source": [
    "ZR=pd.ExcelFile('ZR_Daten_DDR_1976_1990.xlsx')\n",
    "df=ZR.parse(\"Tabelle1\")\n",
    "pd.DataFrame({'NI': df['NI_6']+df['NI_7']+df['NI_8']+df['NI_9']}).describe()"
   ]
  },
  {
   "cell_type": "code",
   "execution_count": 4,
   "metadata": {
    "collapsed": false,
    "deletable": true,
    "editable": true
   },
   "outputs": [
    {
     "data": {
      "text/html": [
       "<div>\n",
       "<table border=\"1\" class=\"dataframe\">\n",
       "  <thead>\n",
       "    <tr style=\"text-align: right;\">\n",
       "      <th></th>\n",
       "      <th>LT</th>\n",
       "    </tr>\n",
       "  </thead>\n",
       "  <tbody>\n",
       "    <tr>\n",
       "      <th>count</th>\n",
       "      <td>4551.000000</td>\n",
       "    </tr>\n",
       "    <tr>\n",
       "      <th>mean</th>\n",
       "      <td>63.189695</td>\n",
       "    </tr>\n",
       "    <tr>\n",
       "      <th>std</th>\n",
       "      <td>4.162295</td>\n",
       "    </tr>\n",
       "    <tr>\n",
       "      <th>min</th>\n",
       "      <td>50.900000</td>\n",
       "    </tr>\n",
       "    <tr>\n",
       "      <th>25%</th>\n",
       "      <td>60.000000</td>\n",
       "    </tr>\n",
       "    <tr>\n",
       "      <th>50%</th>\n",
       "      <td>62.700000</td>\n",
       "    </tr>\n",
       "    <tr>\n",
       "      <th>75%</th>\n",
       "      <td>65.600000</td>\n",
       "    </tr>\n",
       "    <tr>\n",
       "      <th>max</th>\n",
       "      <td>73.400000</td>\n",
       "    </tr>\n",
       "  </tbody>\n",
       "</table>\n",
       "</div>"
      ],
      "text/plain": [
       "                LT\n",
       "count  4551.000000\n",
       "mean     63.189695\n",
       "std       4.162295\n",
       "min      50.900000\n",
       "25%      60.000000\n",
       "50%      62.700000\n",
       "75%      65.600000\n",
       "max      73.400000"
      ]
     },
     "execution_count": 4,
     "metadata": {},
     "output_type": "execute_result"
    }
   ],
   "source": [
    "pd.DataFrame({'LT': df['LT_6']+df['LT_7']+df['LT_8']+df['LT_9']}).describe()"
   ]
  },
  {
   "cell_type": "code",
   "execution_count": 5,
   "metadata": {
    "collapsed": false,
    "deletable": true,
    "editable": true
   },
   "outputs": [],
   "source": [
    "az=[20,30,40,50,60,70]    # array of soil quality\n",
    "NI=np.random.normal(222,77,1000)  # generate 1000 normal distributed NIs\n",
    "LT=np.random.normal(63,4,1000)    # same for the temperature"
   ]
  },
  {
   "cell_type": "markdown",
   "metadata": {
    "deletable": true,
    "editable": true
   },
   "source": [
    "### Make the simulation"
   ]
  },
  {
   "cell_type": "code",
   "execution_count": 6,
   "metadata": {
    "collapsed": false,
    "deletable": true,
    "editable": true
   },
   "outputs": [
    {
     "data": {
      "text/html": [
       "<div>\n",
       "<table border=\"1\" class=\"dataframe\">\n",
       "  <thead>\n",
       "    <tr style=\"text-align: right;\">\n",
       "      <th></th>\n",
       "      <th>20</th>\n",
       "      <th>30</th>\n",
       "      <th>40</th>\n",
       "      <th>50</th>\n",
       "      <th>60</th>\n",
       "      <th>70</th>\n",
       "    </tr>\n",
       "  </thead>\n",
       "  <tbody>\n",
       "    <tr>\n",
       "      <th>count</th>\n",
       "      <td>1000.000000</td>\n",
       "      <td>1000.000000</td>\n",
       "      <td>1000.000000</td>\n",
       "      <td>1000.000000</td>\n",
       "      <td>1000.000000</td>\n",
       "      <td>1000.000000</td>\n",
       "    </tr>\n",
       "    <tr>\n",
       "      <th>mean</th>\n",
       "      <td>229.052512</td>\n",
       "      <td>257.012437</td>\n",
       "      <td>284.525022</td>\n",
       "      <td>310.122547</td>\n",
       "      <td>336.067227</td>\n",
       "      <td>336.067227</td>\n",
       "    </tr>\n",
       "    <tr>\n",
       "      <th>std</th>\n",
       "      <td>47.385234</td>\n",
       "      <td>43.090207</td>\n",
       "      <td>39.056941</td>\n",
       "      <td>38.810100</td>\n",
       "      <td>39.188350</td>\n",
       "      <td>39.188350</td>\n",
       "    </tr>\n",
       "    <tr>\n",
       "      <th>min</th>\n",
       "      <td>68.460243</td>\n",
       "      <td>116.666672</td>\n",
       "      <td>166.666672</td>\n",
       "      <td>216.666656</td>\n",
       "      <td>266.666656</td>\n",
       "      <td>266.666656</td>\n",
       "    </tr>\n",
       "    <tr>\n",
       "      <th>25%</th>\n",
       "      <td>199.025513</td>\n",
       "      <td>231.043968</td>\n",
       "      <td>268.152649</td>\n",
       "      <td>287.692963</td>\n",
       "      <td>309.048500</td>\n",
       "      <td>309.048500</td>\n",
       "    </tr>\n",
       "    <tr>\n",
       "      <th>50%</th>\n",
       "      <td>236.270004</td>\n",
       "      <td>261.788712</td>\n",
       "      <td>287.552231</td>\n",
       "      <td>307.462631</td>\n",
       "      <td>325.690994</td>\n",
       "      <td>325.690994</td>\n",
       "    </tr>\n",
       "    <tr>\n",
       "      <th>75%</th>\n",
       "      <td>266.407578</td>\n",
       "      <td>284.765038</td>\n",
       "      <td>305.627663</td>\n",
       "      <td>333.634926</td>\n",
       "      <td>358.819801</td>\n",
       "      <td>358.819801</td>\n",
       "    </tr>\n",
       "    <tr>\n",
       "      <th>max</th>\n",
       "      <td>328.001068</td>\n",
       "      <td>422.521454</td>\n",
       "      <td>503.497803</td>\n",
       "      <td>495.202881</td>\n",
       "      <td>517.336548</td>\n",
       "      <td>517.336548</td>\n",
       "    </tr>\n",
       "  </tbody>\n",
       "</table>\n",
       "</div>"
      ],
      "text/plain": [
       "                20           30           40           50           60  \\\n",
       "count  1000.000000  1000.000000  1000.000000  1000.000000  1000.000000   \n",
       "mean    229.052512   257.012437   284.525022   310.122547   336.067227   \n",
       "std      47.385234    43.090207    39.056941    38.810100    39.188350   \n",
       "min      68.460243   116.666672   166.666672   216.666656   266.666656   \n",
       "25%     199.025513   231.043968   268.152649   287.692963   309.048500   \n",
       "50%     236.270004   261.788712   287.552231   307.462631   325.690994   \n",
       "75%     266.407578   284.765038   305.627663   333.634926   358.819801   \n",
       "max     328.001068   422.521454   503.497803   495.202881   517.336548   \n",
       "\n",
       "                70  \n",
       "count  1000.000000  \n",
       "mean    336.067227  \n",
       "std      39.188350  \n",
       "min     266.666656  \n",
       "25%     309.048500  \n",
       "50%     325.690994  \n",
       "75%     358.819801  \n",
       "max     517.336548  "
      ]
     },
     "execution_count": 6,
     "metadata": {},
     "output_type": "execute_result"
    }
   ],
   "source": [
    "x=pd.DataFrame(np.zeros((1000,6)),columns=['20','30','40','50','60','70']) # a data frame to store the res\n",
    "for k in az:\n",
    "    res=[]\n",
    "    for i in range(1000):     # use the 1000 samples\n",
    "        val=f1.calc3(k,LT[i],NI[i])\n",
    "        res.append(val)\n",
    "    res=np.array(res)\n",
    "    x[str(k)]=res\n",
    "x.describe()"
   ]
  },
  {
   "cell_type": "markdown",
   "metadata": {
    "deletable": true,
    "editable": true
   },
   "source": [
    "### Repeat the simulation with changed NI and LI "
   ]
  },
  {
   "cell_type": "code",
   "execution_count": 7,
   "metadata": {
    "collapsed": false,
    "deletable": true,
    "editable": true
   },
   "outputs": [
    {
     "data": {
      "text/html": [
       "<div>\n",
       "<table border=\"1\" class=\"dataframe\">\n",
       "  <thead>\n",
       "    <tr style=\"text-align: right;\">\n",
       "      <th></th>\n",
       "      <th>20</th>\n",
       "      <th>30</th>\n",
       "      <th>40</th>\n",
       "      <th>50</th>\n",
       "      <th>60</th>\n",
       "      <th>70</th>\n",
       "    </tr>\n",
       "  </thead>\n",
       "  <tbody>\n",
       "    <tr>\n",
       "      <th>count</th>\n",
       "      <td>1000.000000</td>\n",
       "      <td>1000.000000</td>\n",
       "      <td>1000.000000</td>\n",
       "      <td>1000.000000</td>\n",
       "      <td>1000.000000</td>\n",
       "      <td>1000.000000</td>\n",
       "    </tr>\n",
       "    <tr>\n",
       "      <th>mean</th>\n",
       "      <td>196.484935</td>\n",
       "      <td>226.754176</td>\n",
       "      <td>257.969109</td>\n",
       "      <td>284.458726</td>\n",
       "      <td>313.343149</td>\n",
       "      <td>313.343149</td>\n",
       "    </tr>\n",
       "    <tr>\n",
       "      <th>std</th>\n",
       "      <td>53.273132</td>\n",
       "      <td>48.918822</td>\n",
       "      <td>43.238324</td>\n",
       "      <td>38.017761</td>\n",
       "      <td>31.893123</td>\n",
       "      <td>31.893123</td>\n",
       "    </tr>\n",
       "    <tr>\n",
       "      <th>min</th>\n",
       "      <td>66.666664</td>\n",
       "      <td>116.666664</td>\n",
       "      <td>166.666672</td>\n",
       "      <td>216.666656</td>\n",
       "      <td>266.666656</td>\n",
       "      <td>266.666656</td>\n",
       "    </tr>\n",
       "    <tr>\n",
       "      <th>25%</th>\n",
       "      <td>161.216377</td>\n",
       "      <td>199.360958</td>\n",
       "      <td>229.236111</td>\n",
       "      <td>257.796883</td>\n",
       "      <td>293.224785</td>\n",
       "      <td>293.224785</td>\n",
       "    </tr>\n",
       "    <tr>\n",
       "      <th>50%</th>\n",
       "      <td>198.681610</td>\n",
       "      <td>230.367378</td>\n",
       "      <td>266.217484</td>\n",
       "      <td>285.718018</td>\n",
       "      <td>307.758240</td>\n",
       "      <td>307.758240</td>\n",
       "    </tr>\n",
       "    <tr>\n",
       "      <th>75%</th>\n",
       "      <td>235.598625</td>\n",
       "      <td>260.512543</td>\n",
       "      <td>288.135971</td>\n",
       "      <td>307.883972</td>\n",
       "      <td>328.318169</td>\n",
       "      <td>328.318169</td>\n",
       "    </tr>\n",
       "    <tr>\n",
       "      <th>max</th>\n",
       "      <td>315.612274</td>\n",
       "      <td>394.641418</td>\n",
       "      <td>443.915314</td>\n",
       "      <td>441.297272</td>\n",
       "      <td>480.170135</td>\n",
       "      <td>480.170135</td>\n",
       "    </tr>\n",
       "  </tbody>\n",
       "</table>\n",
       "</div>"
      ],
      "text/plain": [
       "                20           30           40           50           60  \\\n",
       "count  1000.000000  1000.000000  1000.000000  1000.000000  1000.000000   \n",
       "mean    196.484935   226.754176   257.969109   284.458726   313.343149   \n",
       "std      53.273132    48.918822    43.238324    38.017761    31.893123   \n",
       "min      66.666664   116.666664   166.666672   216.666656   266.666656   \n",
       "25%     161.216377   199.360958   229.236111   257.796883   293.224785   \n",
       "50%     198.681610   230.367378   266.217484   285.718018   307.758240   \n",
       "75%     235.598625   260.512543   288.135971   307.883972   328.318169   \n",
       "max     315.612274   394.641418   443.915314   441.297272   480.170135   \n",
       "\n",
       "                70  \n",
       "count  1000.000000  \n",
       "mean    313.343149  \n",
       "std      31.893123  \n",
       "min     266.666656  \n",
       "25%     293.224785  \n",
       "50%     307.758240  \n",
       "75%     328.318169  \n",
       "max     480.170135  "
      ]
     },
     "execution_count": 7,
     "metadata": {},
     "output_type": "execute_result"
    }
   ],
   "source": [
    "NI-=50    # 50 mm less \n",
    "LT+=1     # 1 degree more\n",
    "for k in az:\n",
    "    res=[]\n",
    "    for i in range(1000):     # use the 1000 samples\n",
    "        val=f1.calc3(k,LT[i],NI[i])\n",
    "        res.append(val)\n",
    "    res=np.array(res)\n",
    "    x[str(k)]=res\n",
    "x.describe()"
   ]
  },
  {
   "cell_type": "code",
   "execution_count": null,
   "metadata": {
    "collapsed": false,
    "deletable": true,
    "editable": true
   },
   "outputs": [],
   "source": []
  }
 ],
 "metadata": {
  "kernelspec": {
   "display_name": "Python 2",
   "language": "python",
   "name": "python2"
  },
  "language_info": {
   "codemirror_mode": {
    "name": "ipython",
    "version": 2
   },
   "file_extension": ".py",
   "mimetype": "text/x-python",
   "name": "python",
   "nbconvert_exporter": "python",
   "pygments_lexer": "ipython2",
   "version": "2.7.12"
  },
  "widgets": {
   "state": {},
   "version": "1.1.2"
  }
 },
 "nbformat": 4,
 "nbformat_minor": 0
}
