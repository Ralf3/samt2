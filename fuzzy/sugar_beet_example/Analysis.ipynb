{
 "metadata": {
  "kernelspec": {
   "display_name": "Python 2",
   "language": "python",
   "name": "python2"
  },
  "language_info": {
   "codemirror_mode": {
    "name": "ipython",
    "version": 2
   },
   "file_extension": ".py",
   "mimetype": "text/x-python",
   "name": "python",
   "nbconvert_exporter": "python",
   "pygments_lexer": "ipython2",
   "version": "2.7.12"
  },
  "name": "",
  "signature": "sha256:3d889304dcbe72c8d6c49ad5b186e5824996e7310dc29918fef23c27e874372a",
  "widgets": {
   "state": {},
   "version": "1.1.2"
  }
 },
 "nbformat": 3,
 "nbformat_minor": 0,
 "worksheets": [
  {
   "cells": [
    {
     "cell_type": "heading",
     "level": 1,
     "metadata": {},
     "source": [
      "Analysis ZR-Data"
     ]
    },
    {
     "cell_type": "heading",
     "level": 2,
     "metadata": {},
     "source": [
      "Load the libraries"
     ]
    },
    {
     "cell_type": "code",
     "collapsed": false,
     "input": [
      "import pandas as pd\n",
      "import numpy as np\n",
      "import pylab as plt\n",
      "import statsmodels.formula.api as sm\n",
      "%matplotlib inline\n",
      "pd.set_option('display.precision', 4)\n",
      "pd.set_option('display.max_columns', 999)"
     ],
     "language": "python",
     "metadata": {},
     "outputs": [],
     "prompt_number": 1
    },
    {
     "cell_type": "heading",
     "level": 2,
     "metadata": {},
     "source": [
      "Load the data"
     ]
    },
    {
     "cell_type": "code",
     "collapsed": false,
     "input": [
      "ZR=pd.ExcelFile('ZR_Daten_DDR_1976_1990.xlsx')\n",
      "df=ZR.parse(\"Tabelle1\")"
     ],
     "language": "python",
     "metadata": {},
     "outputs": [],
     "prompt_number": 2
    },
    {
     "cell_type": "heading",
     "level": 2,
     "metadata": {},
     "source": [
      "Describe the data"
     ]
    },
    {
     "cell_type": "code",
     "collapsed": false,
     "input": [
      "df=df[(df['ERTRAG (dt/ha)']<600) & (df['ERTRAG (dt/ha)']>100)]"
     ],
     "language": "python",
     "metadata": {},
     "outputs": [],
     "prompt_number": 3
    },
    {
     "cell_type": "code",
     "collapsed": false,
     "input": [
      "print df.describe()"
     ],
     "language": "python",
     "metadata": {},
     "outputs": [
      {
       "output_type": "stream",
       "stream": "stdout",
       "text": [
        "       ERNTEJAHR  Mittlere Ackerzahl  TAG_AUSSAAT  TAG_AUFGANG  \\\n",
        "count  4474.0000           4474.0000    4474.0000    4474.0000   \n",
        "mean   1982.4779             50.1616     111.0096     128.0346   \n",
        "std       3.9931             14.5134      11.1164       9.7309   \n",
        "min    1976.0000             24.0000      75.0000      94.0000   \n",
        "25%    1979.0000             36.0000     104.0000     122.0000   \n",
        "50%    1982.0000             48.0000     110.0000     128.0000   \n",
        "75%    1986.0000             56.0000     118.0000     134.0000   \n",
        "max    1989.0000             80.0000     159.0000     177.0000   \n",
        "\n",
        "       Tage Aussaat bis Aufgang  N_DUENGUNG  TAG_ERNTEABSCHLUSS  \\\n",
        "count                  4474.000   4474.0000           4474.0000   \n",
        "mean                     17.025    175.1495            303.9104   \n",
        "std                       6.008     39.9842             16.1333   \n",
        "min                       1.000     33.0000            254.0000   \n",
        "25%                      13.000    152.0000            293.0000   \n",
        "50%                      16.000    176.0000            303.0000   \n",
        "75%                      21.000    200.0000            314.0000   \n",
        "max                      47.000    437.0000            357.0000   \n",
        "\n",
        "       ERTRAG (dt/ha)       LT_1       LT_2       LT_3       LT_4       LT_5  \\\n",
        "count       4474.0000  4474.0000  4474.0000  4474.0000  4474.0000  4474.0000   \n",
        "mean         300.7501    -0.8972    -0.7380     3.4538     7.0675    12.5807   \n",
        "std           79.5878     3.4533     2.8268     2.2390     1.1700     1.5621   \n",
        "min          101.0000    -8.1000    -8.7000    -2.5000     4.0000     8.6000   \n",
        "25%          248.0000    -3.9000    -2.1000     2.2000     6.3000    11.5000   \n",
        "50%          304.9500    -0.2500    -0.6000     3.2000     7.0000    12.7000   \n",
        "75%          352.0000     1.5000     1.1000     5.2000     7.8000    13.8000   \n",
        "max          599.0000     5.0000     4.8000     7.7000    10.0000    15.7000   \n",
        "\n",
        "            LT_6       LT_7       LT_8       LT_9      LT_10      LT_11  \\\n",
        "count  4474.0000  4474.0000  4474.0000  4474.0000  4474.0000  4474.0000   \n",
        "mean     15.5563    17.2089    16.8956    13.5632     9.4887     4.2856   \n",
        "std       1.2385     1.6445     1.0667     1.4016     1.0064     1.5429   \n",
        "min      11.7000    13.7000    13.4000    10.4000     6.4000    -0.8000   \n",
        "25%      14.8000    15.9000    16.2000    12.7000     8.9000     3.3000   \n",
        "50%      15.7000    17.3000    16.8000    13.7000     9.5000     4.3000   \n",
        "75%      16.4000    18.3000    17.7000    14.3000    10.1000     5.4000   \n",
        "max      19.3000    21.2000    19.4000    17.3000    11.7000     7.4000   \n",
        "\n",
        "           LT_12    LT_4-10       NI_1       NI_2       NI_3       NI_4  \\\n",
        "count  4474.0000  4474.0000  4474.0000  4474.0000  4474.0000  4474.0000   \n",
        "mean      1.3852    13.1944    44.0878    27.4916    41.9594    42.3425   \n",
        "std       1.9276     0.8669    25.3962    16.1304    23.3331    26.4749   \n",
        "min      -3.9000    10.5429     4.8000     2.4000     5.3000     1.0000   \n",
        "25%       0.1000    12.5857    26.3000    14.8000    24.3000    20.3000   \n",
        "50%       1.8000    13.1143    38.4000    25.8000    39.2000    39.9000   \n",
        "75%       2.8000    13.7571    56.5000    35.1000    54.4000    61.7000   \n",
        "max       4.6000    15.0429   179.5000    92.3000   117.1000   157.0000   \n",
        "\n",
        "            NI_5       NI_6       NI_7       NI_8       NI_9      NI_10  \\\n",
        "count  4474.0000  4474.0000  4474.0000  4474.0000  4474.0000  4474.0000   \n",
        "mean     49.7888    62.0105    58.6842    55.5303    45.8966    35.7546   \n",
        "std      30.0849    31.9561    31.7607    31.3821    25.0877    21.8849   \n",
        "min       3.2000     8.6000     1.0000     5.5000     4.9000     3.2000   \n",
        "25%      28.9000    40.6000    36.0000    32.6000    28.5000    16.7000   \n",
        "50%      43.8000    57.2000    53.1000    49.9000    42.6000    34.1000   \n",
        "75%      66.3000    79.0000    77.6000    69.6000    60.0000    47.6000   \n",
        "max     171.7000   248.0000   168.5000   198.6000   127.4000   122.5000   \n",
        "\n",
        "           NI_11      NI_12    NI_4-10  \n",
        "count  4474.0000  4474.0000  4474.0000  \n",
        "mean     42.9523    50.0898    50.0011  \n",
        "std      20.4999    23.4667    13.9143  \n",
        "min       4.9000     7.7000    19.0000  \n",
        "25%      29.9750    33.4000    39.3714  \n",
        "50%      42.2000    44.0000    49.9857  \n",
        "75%      53.7000    64.2000    59.0857  \n",
        "max     152.7000   150.4000    93.8714  \n"
       ]
      }
     ],
     "prompt_number": 4
    },
    {
     "cell_type": "heading",
     "level": 2,
     "metadata": {},
     "source": [
      "Corrcoef between yield and the rest"
     ]
    },
    {
     "cell_type": "code",
     "collapsed": false,
     "input": [
      "corr=df.corr()\n",
      "print corr['ERTRAG (dt/ha)']"
     ],
     "language": "python",
     "metadata": {},
     "outputs": [
      {
       "output_type": "stream",
       "stream": "stdout",
       "text": [
        "ERNTEJAHR                   0.1439\n",
        "Mittlere Ackerzahl          0.1354\n",
        "TAG_AUSSAAT                -0.1403\n",
        "TAG_AUFGANG                -0.1639\n",
        "Tage Aussaat bis Aufgang   -0.0060\n",
        "N_DUENGUNG                  0.0217\n",
        "TAG_ERNTEABSCHLUSS          0.0960\n",
        "ERTRAG (dt/ha)              1.0000\n",
        "LT_1                       -0.1632\n",
        "LT_2                       -0.1056\n",
        "LT_3                        0.0505\n",
        "LT_4                        0.0578\n",
        "LT_5                       -0.0226\n",
        "LT_6                       -0.1851\n",
        "LT_7                       -0.1356\n",
        "LT_8                       -0.1366\n",
        "LT_9                       -0.1098\n",
        "LT_10                       0.1055\n",
        "LT_11                       0.0081\n",
        "LT_12                       0.0430\n",
        "LT_4-10                    -0.1011\n",
        "NI_1                       -0.1370\n",
        "NI_2                        0.0378\n",
        "NI_3                        0.0031\n",
        "NI_4                        0.0784\n",
        "NI_5                        0.0900\n",
        "NI_6                        0.1065\n",
        "NI_7                        0.1198\n",
        "NI_8                        0.2420\n",
        "NI_9                        0.1891\n",
        "NI_10                       0.0118\n",
        "NI_11                       0.0324\n",
        "NI_12                       0.0699\n",
        "NI_4-10                     0.2525\n",
        "Name: ERTRAG (dt/ha), dtype: float64\n"
       ]
      }
     ],
     "prompt_number": 5
    },
    {
     "cell_type": "heading",
     "level": 2,
     "metadata": {},
     "source": [
      "Regression for Erntejahr"
     ]
    },
    {
     "cell_type": "code",
     "collapsed": false,
     "input": [
      "data=pd.DataFrame({'Y':df['ERTRAG (dt/ha)'],'X':df['ERNTEJAHR']})"
     ],
     "language": "python",
     "metadata": {},
     "outputs": [],
     "prompt_number": 6
    },
    {
     "cell_type": "code",
     "collapsed": false,
     "input": [
      "model= sm.ols(formula=\"Y ~ X\", data=data).fit()"
     ],
     "language": "python",
     "metadata": {},
     "outputs": [],
     "prompt_number": 7
    },
    {
     "cell_type": "code",
     "collapsed": false,
     "input": [
      "print model.params"
     ],
     "language": "python",
     "metadata": {},
     "outputs": [
      {
       "output_type": "stream",
       "stream": "stdout",
       "text": [
        "Intercept   -5383.5639\n",
        "X               2.8673\n",
        "dtype: float64\n"
       ]
      }
     ],
     "prompt_number": 8
    },
    {
     "cell_type": "code",
     "collapsed": false,
     "input": [
      "print model.summary()"
     ],
     "language": "python",
     "metadata": {},
     "outputs": [
      {
       "output_type": "stream",
       "stream": "stdout",
       "text": [
        "                            OLS Regression Results                            \n",
        "==============================================================================\n",
        "Dep. Variable:                      Y   R-squared:                       0.021\n",
        "Model:                            OLS   Adj. R-squared:                  0.020\n",
        "Method:                 Least Squares   F-statistic:                     94.50\n",
        "Date:                Wed, 21 Dec 2016   Prob (F-statistic):           4.05e-22\n",
        "Time:                        13:12:03   Log-Likelihood:                -25883.\n",
        "No. Observations:                4474   AIC:                         5.177e+04\n",
        "Df Residuals:                    4472   BIC:                         5.178e+04\n",
        "Df Model:                           1                                         \n",
        "Covariance Type:            nonrobust                                         \n",
        "==============================================================================\n",
        "                 coef    std err          t      P>|t|      [95.0% Conf. Int.]\n",
        "------------------------------------------------------------------------------\n",
        "Intercept  -5383.5639    584.731     -9.207      0.000     -6529.927 -4237.201\n",
        "X              2.8673      0.295      9.721      0.000         2.289     3.446\n",
        "==============================================================================\n",
        "Omnibus:                       10.652   Durbin-Watson:                   1.232\n",
        "Prob(Omnibus):                  0.005   Jarque-Bera (JB):               12.055\n",
        "Skew:                           0.060   Prob(JB):                      0.00241\n",
        "Kurtosis:                       3.224   Cond. No.                     9.84e+05\n",
        "==============================================================================\n",
        "\n",
        "Warnings:\n",
        "[1] Standard Errors assume that the covariance matrix of the errors is correctly specified.\n",
        "[2] The condition number is large, 9.84e+05. This might indicate that there are\n",
        "strong multicollinearity or other numerical problems.\n"
       ]
      }
     ],
     "prompt_number": 9
    },
    {
     "cell_type": "code",
     "collapsed": false,
     "input": [
      "df['ERTRAG (dt/ha)']-=(2.867*(df['ERNTEJAHR']-1976))"
     ],
     "language": "python",
     "metadata": {},
     "outputs": [],
     "prompt_number": 10
    },
    {
     "cell_type": "code",
     "collapsed": false,
     "input": [
      "df['ERTRAG (dt/ha)'].describe()"
     ],
     "language": "python",
     "metadata": {},
     "outputs": [
      {
       "metadata": {},
       "output_type": "pyout",
       "prompt_number": 11,
       "text": [
        "count    4474.0000\n",
        "mean      282.1781\n",
        "std        78.7599\n",
        "min        66.5960\n",
        "25%       230.3217\n",
        "50%       287.0640\n",
        "75%       334.2660\n",
        "max       596.1330\n",
        "Name: ERTRAG (dt/ha), dtype: float64"
       ]
      }
     ],
     "prompt_number": 11
    },
    {
     "cell_type": "code",
     "collapsed": false,
     "input": [
      "data1=pd.DataFrame({'Y':df['ERTRAG (dt/ha)'],'X':df['TAG_AUSSAAT']})"
     ],
     "language": "python",
     "metadata": {},
     "outputs": [],
     "prompt_number": 12
    },
    {
     "cell_type": "code",
     "collapsed": false,
     "input": [
      "model1= sm.ols(formula=\"Y ~ X\", data=data1).fit()\n",
      "print model1.params"
     ],
     "language": "python",
     "metadata": {},
     "outputs": [
      {
       "output_type": "stream",
       "stream": "stdout",
       "text": [
        "Intercept    365.7124\n",
        "X             -0.7525\n",
        "dtype: float64\n"
       ]
      }
     ],
     "prompt_number": 13
    },
    {
     "cell_type": "code",
     "collapsed": false,
     "input": [
      "print model1.summary()"
     ],
     "language": "python",
     "metadata": {},
     "outputs": [
      {
       "output_type": "stream",
       "stream": "stdout",
       "text": [
        "                            OLS Regression Results                            \n",
        "==============================================================================\n",
        "Dep. Variable:                      Y   R-squared:                       0.011\n",
        "Model:                            OLS   Adj. R-squared:                  0.011\n",
        "Method:                 Least Squares   F-statistic:                     51.02\n",
        "Date:                Wed, 21 Dec 2016   Prob (F-statistic):           1.06e-12\n",
        "Time:                        13:12:07   Log-Likelihood:                -25858.\n",
        "No. Observations:                4474   AIC:                         5.172e+04\n",
        "Df Residuals:                    4472   BIC:                         5.173e+04\n",
        "Df Model:                           1                                         \n",
        "Covariance Type:            nonrobust                                         \n",
        "==============================================================================\n",
        "                 coef    std err          t      P>|t|      [95.0% Conf. Int.]\n",
        "------------------------------------------------------------------------------\n",
        "Intercept    365.7124     11.753     31.116      0.000       342.671   388.754\n",
        "X             -0.7525      0.105     -7.143      0.000        -0.959    -0.546\n",
        "==============================================================================\n",
        "Omnibus:                       17.663   Durbin-Watson:                   1.224\n",
        "Prob(Omnibus):                  0.000   Jarque-Bera (JB):               22.513\n",
        "Skew:                           0.049   Prob(JB):                     1.29e-05\n",
        "Kurtosis:                       3.333   Cond. No.                     1.12e+03\n",
        "==============================================================================\n",
        "\n",
        "Warnings:\n",
        "[1] Standard Errors assume that the covariance matrix of the errors is correctly specified.\n",
        "[2] The condition number is large, 1.12e+03. This might indicate that there are\n",
        "strong multicollinearity or other numerical problems.\n"
       ]
      }
     ],
     "prompt_number": 14
    },
    {
     "cell_type": "code",
     "collapsed": false,
     "input": [
      "df['ERTRAG (dt/ha)']-=(0.752*(df['TAG_AUSSAAT']-75)) # wrong due to errors in sowing date"
     ],
     "language": "python",
     "metadata": {},
     "outputs": [],
     "prompt_number": 15
    },
    {
     "cell_type": "code",
     "collapsed": false,
     "input": [
      "df['ERTRAG (dt/ha)'].describe()"
     ],
     "language": "python",
     "metadata": {},
     "outputs": [
      {
       "metadata": {},
       "output_type": "pyout",
       "prompt_number": 16,
       "text": [
        "count    4474.0000\n",
        "mean      255.0988\n",
        "std        80.0804\n",
        "min        25.1630\n",
        "25%       201.6195\n",
        "50%       259.0740\n",
        "75%       307.8680\n",
        "max       558.5330\n",
        "Name: ERTRAG (dt/ha), dtype: float64"
       ]
      }
     ],
     "prompt_number": 16
    },
    {
     "cell_type": "heading",
     "level": 2,
     "metadata": {},
     "source": [
      "Histograms to support model building"
     ]
    },
    {
     "cell_type": "code",
     "collapsed": false,
     "input": [
      "plt.hist(df['ERTRAG (dt/ha)'].dropna(),bins=50)\n",
      "plt.xlabel('ERTRAG (dt/ha)')\n",
      "plt.grid(True)\n",
      "plt.show()"
     ],
     "language": "python",
     "metadata": {},
     "outputs": [
      {
       "metadata": {},
       "output_type": "display_data",
       "png": "[encoded data removed]",
       "text": [
        "<matplotlib.figure.Figure at 0x7f9b432609d0>"
       ]
      }
     ],
     "prompt_number": 17
    },
    {
     "cell_type": "code",
     "collapsed": false,
     "input": [
      "plt.hist(df['Mittlere Ackerzahl'].dropna(),bins=50)\n",
      "plt.xlabel('Mittlere Ackerzahl')\n",
      "plt.grid(True)\n",
      "plt.show()"
     ],
     "language": "python",
     "metadata": {},
     "outputs": [
      {
       "metadata": {},
       "output_type": "display_data",
       "png": "[encoded data removed]",
       "text": [
        "<matplotlib.figure.Figure at 0x7f9b04005250>"
       ]
      }
     ],
     "prompt_number": 18
    },
    {
     "cell_type": "code",
     "collapsed": false,
     "input": [
      "plt.hist(df['LT_6']+df['LT_7']+df['LT_8']+df['LT_9'],bins=50)\n",
      "plt.xlabel('LT6..LT9')\n",
      "plt.grid(True)\n",
      "plt.show()          "
     ],
     "language": "python",
     "metadata": {},
     "outputs": [
      {
       "metadata": {},
       "output_type": "display_data",
       "png": "[encoded data removed]",
       "text": [
        "<matplotlib.figure.Figure at 0x7f9afe609c90>"
       ]
      }
     ],
     "prompt_number": 19
    },
    {
     "cell_type": "code",
     "collapsed": false,
     "input": [
      "plt.hist(df['NI_6']+df['NI_7']+df['NI_8']+df['NI_9'],bins=50)\n",
      "plt.xlabel('NI_6..NI_9')\n",
      "plt.grid(True)\n",
      "plt.show()"
     ],
     "language": "python",
     "metadata": {},
     "outputs": [
      {
       "metadata": {},
       "output_type": "display_data",
       "png": "[encoded data removed]",
       "text": [
        "<matplotlib.figure.Figure at 0x7f9b007cded0>"
       ]
      }
     ],
     "prompt_number": 20
    },
    {
     "cell_type": "code",
     "collapsed": false,
     "input": [],
     "language": "python",
     "metadata": {},
     "outputs": [],
     "prompt_number": 20
    },
    {
     "cell_type": "code",
     "collapsed": false,
     "input": [],
     "language": "python",
     "metadata": {},
     "outputs": [],
     "prompt_number": 20
    }
   ],
   "metadata": {}
  }
 ]
}