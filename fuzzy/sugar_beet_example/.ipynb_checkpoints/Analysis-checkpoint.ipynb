{
 "metadata": {
  "name": ""
 },
 "nbformat": 3,
 "nbformat_minor": 0,
 "worksheets": [
  {
   "cells": [
    {
     "cell_type": "heading",
     "level": 1,
     "metadata": {},
     "source": [
      "Analysis ZR-Data"
     ]
    },
    {
     "cell_type": "heading",
     "level": 2,
     "metadata": {},
     "source": [
      "Load the libraries"
     ]
    },
    {
     "cell_type": "code",
     "collapsed": false,
     "input": [
      "import pandas as pd\n",
      "import numpy as np\n",
      "import pylab as plt\n",
      "import statsmodels.formula.api as sm\n",
      "%matplotlib inline\n",
      "pd.set_option('display.precision', 4)\n",
      "pd.set_option('display.max_columns', 999)"
     ],
     "language": "python",
     "metadata": {},
     "outputs": [],
     "prompt_number": 52
    },
    {
     "cell_type": "heading",
     "level": 2,
     "metadata": {},
     "source": [
      "Load the data"
     ]
    },
    {
     "cell_type": "code",
     "collapsed": false,
     "input": [
      "ZR=pd.ExcelFile('ZR_Daten_DDR_1976_1990.xlsx')\n",
      "df=ZR.parse(\"Tabelle1\")"
     ],
     "language": "python",
     "metadata": {},
     "outputs": [],
     "prompt_number": 53
    },
    {
     "cell_type": "heading",
     "level": 2,
     "metadata": {},
     "source": [
      "Describe the data"
     ]
    },
    {
     "cell_type": "code",
     "collapsed": false,
     "input": [
      "df=df[(df['ERTRAG (dt/ha)']<600) & (df['ERTRAG (dt/ha)']>100)]"
     ],
     "language": "python",
     "metadata": {},
     "outputs": [],
     "prompt_number": 54
    },
    {
     "cell_type": "code",
     "collapsed": false,
     "input": [
      "print df.describe()"
     ],
     "language": "python",
     "metadata": {},
     "outputs": [
      {
       "output_type": "stream",
       "stream": "stdout",
       "text": [
        "       ERNTEJAHR  Mittlere Ackerzahl  TAG_AUSSAAT  TAG_AUFGANG  \\\n",
        "count   4474.000            4474.000     4474.000     4474.000   \n",
        "mean    1982.478              50.162      111.010      128.035   \n",
        "std        3.993              14.513       11.116        9.731   \n",
        "min     1976.000              24.000       75.000       94.000   \n",
        "25%     1979.000              36.000      104.000      122.000   \n",
        "50%     1982.000              48.000      110.000      128.000   \n",
        "75%     1986.000              56.000      118.000      134.000   \n",
        "max     1989.000              80.000      159.000      177.000   \n",
        "\n",
        "       Tage Aussaat bis Aufgang  N_DUENGUNG  TAG_ERNTEABSCHLUSS  \\\n",
        "count                  4474.000    4474.000            4474.000   \n",
        "mean                     17.025     175.150             303.910   \n",
        "std                       6.008      39.984              16.133   \n",
        "min                       1.000      33.000             254.000   \n",
        "25%                      13.000     152.000             293.000   \n",
        "50%                      16.000     176.000             303.000   \n",
        "75%                      21.000     200.000             314.000   \n",
        "max                      47.000     437.000             357.000   \n",
        "\n",
        "       ERTRAG (dt/ha)      LT_1      LT_2      LT_3      LT_4      LT_5  \\\n",
        "count        4474.000  4474.000  4474.000  4474.000  4474.000  4474.000   \n",
        "mean          300.750    -0.897    -0.738     3.454     7.068    12.581   \n",
        "std            79.588     3.453     2.827     2.239     1.170     1.562   \n",
        "min           101.000    -8.100    -8.700    -2.500     4.000     8.600   \n",
        "25%           248.000    -3.900    -2.100     2.200     6.300    11.500   \n",
        "50%           304.950    -0.250    -0.600     3.200     7.000    12.700   \n",
        "75%           352.000     1.500     1.100     5.200     7.800    13.800   \n",
        "max           599.000     5.000     4.800     7.700    10.000    15.700   \n",
        "\n",
        "           LT_6      LT_7      LT_8      LT_9     LT_10     LT_11     LT_12  \\\n",
        "count  4474.000  4474.000  4474.000  4474.000  4474.000  4474.000  4474.000   \n",
        "mean     15.556    17.209    16.896    13.563     9.489     4.286     1.385   \n",
        "std       1.238     1.644     1.067     1.402     1.006     1.543     1.928   \n",
        "min      11.700    13.700    13.400    10.400     6.400    -0.800    -3.900   \n",
        "25%      14.800    15.900    16.200    12.700     8.900     3.300     0.100   \n",
        "50%      15.700    17.300    16.800    13.700     9.500     4.300     1.800   \n",
        "75%      16.400    18.300    17.700    14.300    10.100     5.400     2.800   \n",
        "max      19.300    21.200    19.400    17.300    11.700     7.400     4.600   \n",
        "\n",
        "        LT_4-10      NI_1      NI_2      NI_3      NI_4      NI_5      NI_6  \\\n",
        "count  4474.000  4474.000  4474.000  4474.000  4474.000  4474.000  4474.000   \n",
        "mean     13.194    44.088    27.492    41.959    42.342    49.789    62.011   \n",
        "std       0.867    25.396    16.130    23.333    26.475    30.085    31.956   \n",
        "min      10.543     4.800     2.400     5.300     1.000     3.200     8.600   \n",
        "25%      12.586    26.300    14.800    24.300    20.300    28.900    40.600   \n",
        "50%      13.114    38.400    25.800    39.200    39.900    43.800    57.200   \n",
        "75%      13.757    56.500    35.100    54.400    61.700    66.300    79.000   \n",
        "max      15.043   179.500    92.300   117.100   157.000   171.700   248.000   \n",
        "\n",
        "           NI_7      NI_8      NI_9     NI_10     NI_11     NI_12   NI_4-10  \n",
        "count  4474.000  4474.000  4474.000  4474.000  4474.000  4474.000  4474.000  \n",
        "mean     58.684    55.530    45.897    35.755    42.952    50.090    50.001  \n",
        "std      31.761    31.382    25.088    21.885    20.500    23.467    13.914  \n",
        "min       1.000     5.500     4.900     3.200     4.900     7.700    19.000  \n",
        "25%      36.000    32.600    28.500    16.700    29.975    33.400    39.371  \n",
        "50%      53.100    49.900    42.600    34.100    42.200    44.000    49.986  \n",
        "75%      77.600    69.600    60.000    47.600    53.700    64.200    59.086  \n",
        "max     168.500   198.600   127.400   122.500   152.700   150.400    93.871  \n",
        "\n",
        "[8 rows x 34 columns]\n"
       ]
      }
     ],
     "prompt_number": 55
    },
    {
     "cell_type": "heading",
     "level": 2,
     "metadata": {},
     "source": [
      "Corrcoef between yield and the rest"
     ]
    },
    {
     "cell_type": "code",
     "collapsed": false,
     "input": [
      "corr=df.corr()\n",
      "print corr['ERTRAG (dt/ha)']"
     ],
     "language": "python",
     "metadata": {},
     "outputs": [
      {
       "output_type": "stream",
       "stream": "stdout",
       "text": [
        "ERNTEJAHR                   0.144\n",
        "Mittlere Ackerzahl          0.135\n",
        "TAG_AUSSAAT                -0.140\n",
        "TAG_AUFGANG                -0.164\n",
        "Tage Aussaat bis Aufgang   -0.006\n",
        "N_DUENGUNG                  0.022\n",
        "TAG_ERNTEABSCHLUSS          0.096\n",
        "ERTRAG (dt/ha)              1.000\n",
        "LT_1                       -0.163\n",
        "LT_2                       -0.106\n",
        "LT_3                        0.050\n",
        "LT_4                        0.058\n",
        "LT_5                       -0.023\n",
        "LT_6                       -0.185\n",
        "LT_7                       -0.136\n",
        "LT_8                       -0.137\n",
        "LT_9                       -0.110\n",
        "LT_10                       0.106\n",
        "LT_11                       0.008\n",
        "LT_12                       0.043\n",
        "LT_4-10                    -0.101\n",
        "NI_1                       -0.137\n",
        "NI_2                        0.038\n",
        "NI_3                        0.003\n",
        "NI_4                        0.078\n",
        "NI_5                        0.090\n",
        "NI_6                        0.107\n",
        "NI_7                        0.120\n",
        "NI_8                        0.242\n",
        "NI_9                        0.189\n",
        "NI_10                       0.012\n",
        "NI_11                       0.032\n",
        "NI_12                       0.070\n",
        "NI_4-10                     0.252\n",
        "Name: ERTRAG (dt/ha), dtype: float64\n"
       ]
      }
     ],
     "prompt_number": 56
    },
    {
     "cell_type": "heading",
     "level": 2,
     "metadata": {},
     "source": [
      "Regression for Erntejahr"
     ]
    },
    {
     "cell_type": "code",
     "collapsed": false,
     "input": [
      "data=pd.DataFrame({'Y':df['ERTRAG (dt/ha)'],'X':df['ERNTEJAHR']})"
     ],
     "language": "python",
     "metadata": {},
     "outputs": [],
     "prompt_number": 57
    },
    {
     "cell_type": "code",
     "collapsed": false,
     "input": [
      "model= sm.ols(formula=\"Y ~ X\", data=data).fit()"
     ],
     "language": "python",
     "metadata": {},
     "outputs": [],
     "prompt_number": 58
    },
    {
     "cell_type": "code",
     "collapsed": false,
     "input": [
      "print model.params"
     ],
     "language": "python",
     "metadata": {},
     "outputs": [
      {
       "output_type": "stream",
       "stream": "stdout",
       "text": [
        "Intercept   -5383.564\n",
        "X               2.867\n",
        "dtype: float64\n"
       ]
      }
     ],
     "prompt_number": 59
    },
    {
     "cell_type": "code",
     "collapsed": false,
     "input": [
      "print model.summary()"
     ],
     "language": "python",
     "metadata": {},
     "outputs": [
      {
       "output_type": "stream",
       "stream": "stdout",
       "text": [
        "                            OLS Regression Results                            \n",
        "==============================================================================\n",
        "Dep. Variable:                      Y   R-squared:                       0.021\n",
        "Model:                            OLS   Adj. R-squared:                  0.020\n",
        "Method:                 Least Squares   F-statistic:                     94.50\n",
        "Date:                Tue, 15 Sep 2015   Prob (F-statistic):           4.05e-22\n",
        "Time:                        07:30:20   Log-Likelihood:                -25883.\n",
        "No. Observations:                4474   AIC:                         5.177e+04\n",
        "Df Residuals:                    4472   BIC:                         5.178e+04\n",
        "Df Model:                           1                                         \n",
        "==============================================================================\n",
        "                 coef    std err          t      P>|t|      [95.0% Conf. Int.]\n",
        "------------------------------------------------------------------------------\n",
        "Intercept  -5383.5639    584.731     -9.207      0.000     -6529.927 -4237.201\n",
        "X              2.8673      0.295      9.721      0.000         2.289     3.446\n",
        "==============================================================================\n",
        "Omnibus:                       10.652   Durbin-Watson:                   1.232\n",
        "Prob(Omnibus):                  0.005   Jarque-Bera (JB):               12.055\n",
        "Skew:                           0.060   Prob(JB):                      0.00241\n",
        "Kurtosis:                       3.224   Cond. No.                     9.84e+05\n",
        "==============================================================================\n",
        "\n",
        "Warnings:\n",
        "[1] The condition number is large, 9.84e+05. This might indicate that there are\n",
        "strong multicollinearity or other numerical problems.\n"
       ]
      }
     ],
     "prompt_number": 60
    },
    {
     "cell_type": "code",
     "collapsed": false,
     "input": [
      "df['ERTRAG (dt/ha)']-=(2.867*(df['ERNTEJAHR']-1976))"
     ],
     "language": "python",
     "metadata": {},
     "outputs": [],
     "prompt_number": 61
    },
    {
     "cell_type": "code",
     "collapsed": false,
     "input": [
      "df['ERTRAG (dt/ha)'].describe()"
     ],
     "language": "python",
     "metadata": {},
     "outputs": [
      {
       "metadata": {},
       "output_type": "pyout",
       "prompt_number": 62,
       "text": [
        "count    4474.000\n",
        "mean      282.178\n",
        "std        78.760\n",
        "min        66.596\n",
        "25%       230.322\n",
        "50%       287.064\n",
        "75%       334.266\n",
        "max       596.133\n",
        "Name: ERTRAG (dt/ha), dtype: float64"
       ]
      }
     ],
     "prompt_number": 62
    },
    {
     "cell_type": "code",
     "collapsed": false,
     "input": [
      "data1=pd.DataFrame({'Y':df['ERTRAG (dt/ha)'],'X':df['TAG_AUSSAAT']})"
     ],
     "language": "python",
     "metadata": {},
     "outputs": [],
     "prompt_number": 63
    },
    {
     "cell_type": "code",
     "collapsed": false,
     "input": [
      "model1= sm.ols(formula=\"Y ~ X\", data=data1).fit()\n",
      "print model1.params"
     ],
     "language": "python",
     "metadata": {},
     "outputs": [
      {
       "output_type": "stream",
       "stream": "stdout",
       "text": [
        "Intercept    365.712\n",
        "X             -0.752\n",
        "dtype: float64\n"
       ]
      }
     ],
     "prompt_number": 64
    },
    {
     "cell_type": "code",
     "collapsed": false,
     "input": [
      "print model1.summary()"
     ],
     "language": "python",
     "metadata": {},
     "outputs": [
      {
       "output_type": "stream",
       "stream": "stdout",
       "text": [
        "                            OLS Regression Results                            \n",
        "==============================================================================\n",
        "Dep. Variable:                      Y   R-squared:                       0.011\n",
        "Model:                            OLS   Adj. R-squared:                  0.011\n",
        "Method:                 Least Squares   F-statistic:                     51.02\n",
        "Date:                Tue, 15 Sep 2015   Prob (F-statistic):           1.06e-12\n",
        "Time:                        07:30:20   Log-Likelihood:                -25858.\n",
        "No. Observations:                4474   AIC:                         5.172e+04\n",
        "Df Residuals:                    4472   BIC:                         5.173e+04\n",
        "Df Model:                           1                                         \n",
        "==============================================================================\n",
        "                 coef    std err          t      P>|t|      [95.0% Conf. Int.]\n",
        "------------------------------------------------------------------------------\n",
        "Intercept    365.7124     11.753     31.116      0.000       342.671   388.754\n",
        "X             -0.7525      0.105     -7.143      0.000        -0.959    -0.546\n",
        "==============================================================================\n",
        "Omnibus:                       17.663   Durbin-Watson:                   1.224\n",
        "Prob(Omnibus):                  0.000   Jarque-Bera (JB):               22.513\n",
        "Skew:                           0.049   Prob(JB):                     1.29e-05\n",
        "Kurtosis:                       3.333   Cond. No.                     1.12e+03\n",
        "==============================================================================\n",
        "\n",
        "Warnings:\n",
        "[1] The condition number is large, 1.12e+03. This might indicate that there are\n",
        "strong multicollinearity or other numerical problems.\n"
       ]
      }
     ],
     "prompt_number": 65
    },
    {
     "cell_type": "code",
     "collapsed": false,
     "input": [
      "df['ERTRAG (dt/ha)']-=(0.752*(df['TAG_AUSSAAT']-75))"
     ],
     "language": "python",
     "metadata": {},
     "outputs": [],
     "prompt_number": 71
    },
    {
     "cell_type": "code",
     "collapsed": false,
     "input": [
      "df['ERTRAG (dt/ha)'].describe()"
     ],
     "language": "python",
     "metadata": {},
     "outputs": [
      {
       "metadata": {},
       "output_type": "pyout",
       "prompt_number": 72,
       "text": [
        "count    4474.000\n",
        "mean      255.099\n",
        "std        80.080\n",
        "min        25.163\n",
        "25%       201.619\n",
        "50%       259.074\n",
        "75%       307.868\n",
        "max       558.533\n",
        "Name: ERTRAG (dt/ha), dtype: float64"
       ]
      }
     ],
     "prompt_number": 72
    },
    {
     "cell_type": "heading",
     "level": 2,
     "metadata": {},
     "source": [
      "Histograms to support model building"
     ]
    },
    {
     "cell_type": "code",
     "collapsed": false,
     "input": [
      "plt.hist(df['ERTRAG (dt/ha)'].dropna(),bins=50)\n",
      "plt.xlabel('ERTRAG (dt/ha)')\n",
      "plt.grid(True)\n",
      "plt.show()"
     ],
     "language": "python",
     "metadata": {},
     "outputs": [
      {
       "metadata": {},
       "output_type": "display_data",
       "png": "[encoded data removed]",
       "text": [
        "<matplotlib.figure.Figure at 0x7f1c5b39fa50>"
       ]
      }
     ],
     "prompt_number": 67
    },
    {
     "cell_type": "code",
     "collapsed": false,
     "input": [
      "plt.hist(df['Mittlere Ackerzahl'].dropna(),bins=50)\n",
      "plt.xlabel('Mittlere Ackerzahl')\n",
      "plt.grid(True)\n",
      "plt.show()"
     ],
     "language": "python",
     "metadata": {},
     "outputs": [
      {
       "metadata": {},
       "output_type": "display_data",
       "png": "[encoded data removed]",
       "text": [
        "<matplotlib.figure.Figure at 0x7f1c5b38f390>"
       ]
      }
     ],
     "prompt_number": 68
    },
    {
     "cell_type": "code",
     "collapsed": false,
     "input": [
      "plt.hist(df['LT_6']+df['LT_7']+df['LT_8']+df['LT_9'],bins=50)\n",
      "plt.xlabel('LT6..LT9')\n",
      "plt.grid(True)\n",
      "plt.show()          "
     ],
     "language": "python",
     "metadata": {},
     "outputs": [
      {
       "metadata": {},
       "output_type": "display_data",
       "png": "[encoded data removed]",
       "text": [
        "<matplotlib.figure.Figure at 0x7f1c5b3e9290>"
       ]
      }
     ],
     "prompt_number": 69
    },
    {
     "cell_type": "code",
     "collapsed": false,
     "input": [
      "plt.hist(df['NI_6']+df['NI_7']+df['NI_8']+df['NI_9'],bins=50)\n",
      "plt.xlabel('NI_6..NI_9')\n",
      "plt.grid(True)\n",
      "plt.show()"
     ],
     "language": "python",
     "metadata": {},
     "outputs": [
      {
       "metadata": {},
       "output_type": "display_data",
       "png": "[encoded data removed]",
       "text": [
        "<matplotlib.figure.Figure at 0x7f1c5b468ad0>"
       ]
      }
     ],
     "prompt_number": 70
    },
    {
     "cell_type": "code",
     "collapsed": false,
     "input": [],
     "language": "python",
     "metadata": {},
     "outputs": [],
     "prompt_number": 70
    },
    {
     "cell_type": "code",
     "collapsed": false,
     "input": [],
     "language": "python",
     "metadata": {},
     "outputs": [],
     "prompt_number": 70
    }
   ],
   "metadata": {}
  }
 ]
}